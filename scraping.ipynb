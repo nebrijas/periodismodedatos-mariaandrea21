{
 "cells": [
  {
   "cell_type": "markdown",
   "id": "5205b029",
   "metadata": {},
   "source": [
    "# Práctica de web scraping "
   ]
  },
  {
   "cell_type": "markdown",
   "id": "951c7e8d",
   "metadata": {},
   "source": [
    "### Importar librerías"
   ]
  },
  {
   "cell_type": "markdown",
   "id": "72760a53",
   "metadata": {},
   "source": [
    "Importo la librería [requests](https://docs.python-requests.org/en/latest/)"
   ]
  },
  {
   "cell_type": "markdown",
   "id": "6541482e",
   "metadata": {},
   "source": [
    "Lo primero que realizamos es importar la librería requests para bajarnos la página web de donde queremos extraer los datos y luego importamos la librería BeautifulSoup para interpretar el código HTML."
   ]
  },
  {
   "cell_type": "code",
   "execution_count": null,
   "id": "4594a6c5",
   "metadata": {},
   "outputs": [],
   "source": [
    "import requests"
   ]
  },
  {
   "cell_type": "markdown",
   "id": "ea9d70d6",
   "metadata": {},
   "source": [
    "Voy a importar de la librería [bs4](https://www.crummy.com/software/BeautifulSoup/bs4/doc/) `Beautiful soup`"
   ]
  },
  {
   "cell_type": "code",
   "execution_count": null,
   "id": "f59a6fce",
   "metadata": {},
   "outputs": [],
   "source": [
    "from bs4 import BeautifulSoup"
   ]
  },
  {
   "cell_type": "markdown",
   "id": "79f75aff",
   "metadata": {},
   "source": [
    "## Variables"
   ]
  },
  {
   "cell_type": "markdown",
   "id": "b0b51266",
   "metadata": {},
   "source": [
    "Explicación de variables"
   ]
  },
  {
   "cell_type": "markdown",
   "id": "bb69d51e",
   "metadata": {},
   "source": [
    "### Definimos URL"
   ]
  },
  {
   "cell_type": "markdown",
   "id": "b0b02014",
   "metadata": {},
   "source": [
    "Se deben establecer las variables como la URL que en este caso es del [El Pais](https://resultados.elpais.com/deportivos/juegos-olimpicos/medallero/), que dirige a un medallero de los Juegos de Tokio 2020 y que será la página a la que realizaremos en scraping."
   ]
  },
  {
   "cell_type": "code",
   "execution_count": null,
   "id": "3e9fa012",
   "metadata": {},
   "outputs": [],
   "source": [
    "URL = \"https://resultados.elpais.com/deportivos/juegos-olimpicos/medallero/\""
   ]
  },
  {
   "cell_type": "markdown",
   "id": "6a5aa621",
   "metadata": {},
   "source": [
    "### Realizamos la petición a la web"
   ]
  },
  {
   "cell_type": "markdown",
   "id": "91de801f",
   "metadata": {},
   "source": [
    " *Realizamos la petición a la web* se define que si el estatus code no es 200 no se puede leer la página. En caso de que si sea 200, se imprime en la página **\"vamos a por ello\"**"
   ]
  },
  {
   "cell_type": "markdown",
   "id": "acb1bfd4",
   "metadata": {},
   "source": [
    "Si el estatus code no es `200` no se puede leer la página"
   ]
  },
  {
   "cell_type": "code",
   "execution_count": null,
   "id": "124fc745",
   "metadata": {},
   "outputs": [],
   "source": [
    "req = requests.get(URL)\n",
    "if (req.status_code != 200):\n",
    "    raise Exception(\"No se puede hacer Web Scraping en\"+ URL)\n",
    "if (req.status_code  == 200)\n",
    "raise Exception (\"Vamos a por ello\")"
   ]
  },
  {
   "cell_type": "markdown",
   "id": "058b3147",
   "metadata": {},
   "source": [
    "### De request a BeautifulSoup"
   ]
  },
  {
   "cell_type": "markdown",
   "id": "224e2f04",
   "metadata": {},
   "source": [
    "Después, pasamos el contenido HTML de la web a un objeto 'BeautifulSoup()'', que representa al árbol de objetos Python resultante de parsear el documento HTML de entrada."
   ]
  },
  {
   "cell_type": "markdown",
   "id": "02da8b79",
   "metadata": {},
   "source": [
    "Pasamos el contenido HTML de la web a un objeto 'BeautifulSoup()''"
   ]
  },
  {
   "cell_type": "code",
   "execution_count": null,
   "id": "ab2fefda",
   "metadata": {},
   "outputs": [],
   "source": [
    "html = BeautifulSoup(req.text, \"html.parser\")"
   ]
  },
  {
   "cell_type": "markdown",
   "id": "bad09c4d",
   "metadata": {},
   "source": [
    "### Variables de datos"
   ]
  },
  {
   "cell_type": "markdown",
   "id": "80a85fbf",
   "metadata": {},
   "source": [
    "Definimos las variables países, oros, plata, bronce, total, etc y las identificamos con la función `find_all()`, para obtener todas las etiquetas que cumplan con las condiciones del objeto HTML."
   ]
  },
  {
   "cell_type": "markdown",
   "id": "2c775f88",
   "metadata": {},
   "source": [
    "Definimos las variables `países`, `oros`, etc y las identificamos con la función `find_all()`"
   ]
  },
  {
   "cell_type": "code",
   "execution_count": null,
   "id": "47097ef1",
   "metadata": {},
   "outputs": [],
   "source": [
    "  paises = html.find_all(\"th\",{\"class\":\"pais\"})\n",
    "  oros = html.find_all(\"td\",{\"class\":\"m_oro\"})\n",
    "  platas = html.find_all(\"td\",{\"class\":\"m_plata\"})\n",
    "  bronces = html.find_all(\"td\",{\"class\":\"m_bronce\"})\n",
    "  totales = html.find_all(\"td\",{\"class\":\"m_total\"})"
   ]
  },
  {
   "cell_type": "markdown",
   "id": "722c5bf3",
   "metadata": {},
   "source": [
    "## Hacemos la pregunta"
   ]
  },
  {
   "cell_type": "markdown",
   "id": "e00b7b8b",
   "metadata": {},
   "source": [
    "Se realiza la pregunta: ¿QUIERES CONOCER LOS 20 PAÍSES QUE HAN OBTENIDO MÁS MEDALLAS EN 2020?\\n \\n Si tu respuesta es Sí, presiona \"s\" \\n'. En caso de que la persona presione `s`, se imprimirá la frase **\"De acuerdo\"**"
   ]
  },
  {
   "cell_type": "code",
   "execution_count": null,
   "id": "c4aa9527",
   "metadata": {},
   "outputs": [],
   "source": [
    "respuesta=input('¿QUIERES CONOCER LOS 20 PAÍSES QUE HAN OBTENIDO MÁS MEDALLAS EN 2020?\\n \\n Si tu respuesta es Sí, presiona \"s\" \\n')\n",
    "if(respuesta == 's'): \n",
    "    print('\\nDe acuerdo\\n')\n",
    "    "
   ]
  },
  {
   "cell_type": "markdown",
   "id": "a51b1a20",
   "metadata": {},
   "source": [
    "## Bluce para obtener los datos"
   ]
  },
  {
   "cell_type": "markdown",
   "id": "df7ce212",
   "metadata": {},
   "source": [
    "Finalmente para obtener los datos realizaremos un bucle for, es decir, repetiremos el bloque de instrucciones en un rango de 20 veces. ya que estas han sido determinadas previamente a través del código `for i in range (20)`.\n",
    "Una vez y se excesa el número de intentos, la página imprimirá **Qué lástima, y...**"
   ]
  },
  {
   "cell_type": "code",
   "execution_count": null,
   "id": "d5cde3bf",
   "metadata": {},
   "outputs": [],
   "source": [
    "print('\\nRESULTADOS DE LOS DATOS DE LOS JUEGOS OLÍMPICOS 2020\\n')\n",
    "print ('PAÍSES')\n",
    "\n",
    "for i in range (20):\n",
    "    # Con el método \"getText()\" no nos devuelve el HTML\n",
    "    print(\"%d. %s \\nOro: %s Plata: %s Bronce: %s \\n Total: %s \\n \" % (i+1, paises[i+1].text.strip(),oros[i].text.strip(),platas[i].text.strip(),bronces[i].text.strip(), totales[i].text.strip()))\n",
    "\n",
    "else:\n",
    "  print('Qué lástima, y...')"
   ]
  },
  {
   "cell_type": "code",
   "execution_count": null,
   "id": "c709bbbe",
   "metadata": {},
   "outputs": [],
   "source": []
  }
 ],
 "metadata": {
  "kernelspec": {
   "display_name": "Python 3",
   "language": "python",
   "name": "python3"
  },
  "language_info": {
   "codemirror_mode": {
    "name": "ipython",
    "version": 3
   },
   "file_extension": ".py",
   "mimetype": "text/x-python",
   "name": "python",
   "nbconvert_exporter": "python",
   "pygments_lexer": "ipython3",
   "version": "3.8.8"
  }
 },
 "nbformat": 4,
 "nbformat_minor": 5
}
